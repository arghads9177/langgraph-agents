{
 "cells": [
  {
   "cell_type": "markdown",
   "id": "ace454d8",
   "metadata": {},
   "source": [
    "# Travel Planner\n",
    "\n",
    "A simple implementation with routing"
   ]
  },
  {
   "cell_type": "code",
   "execution_count": 120,
   "id": "3cd765de",
   "metadata": {},
   "outputs": [],
   "source": [
    "import os\n",
    "from dotenv import load_dotenv\n",
    "from typing import Any, Dict, List, Optional, Literal, Set, TypedDict\n",
    "from pydantic import BaseModel, Field, ValidationError\n",
    "from IPython.display import display, Image\n",
    "# LangGraph StateGraph import (assume installed)\n",
    "from langgraph.graph import StateGraph, START, END\n",
    "\n",
    "# LangChain imports (LLM & Chains)\n",
    "from langchain_openai import ChatOpenAI\n",
    "from langchain import LLMChain, PromptTemplate\n",
    "from langchain.output_parsers import PydanticOutputParser\n",
    "\n",
    "# Tavily search\n",
    "from langchain_tavily import TavilySearch"
   ]
  },
  {
   "cell_type": "code",
   "execution_count": 3,
   "id": "4a5aafaf",
   "metadata": {},
   "outputs": [
    {
     "data": {
      "text/plain": [
       "True"
      ]
     },
     "execution_count": 3,
     "metadata": {},
     "output_type": "execute_result"
    }
   ],
   "source": [
    "load_dotenv()"
   ]
  },
  {
   "cell_type": "code",
   "execution_count": 72,
   "id": "edb3d3d9",
   "metadata": {},
   "outputs": [],
   "source": [
    "# Setup LLM clients using env keys\n",
    "OPENAI_API_KEY = os.getenv(\"OPENAI_API_KEY\")\n",
    "if not OPENAI_API_KEY:\n",
    "    raise RuntimeError(\"OPENAI_API_KEY not set in environment. Set it in .env or env vars before running.\")\n",
    "\n",
    "llm = ChatOpenAI(model=\"gpt-4\", temperature=0.0)"
   ]
  },
  {
   "cell_type": "code",
   "execution_count": 7,
   "id": "fc034956",
   "metadata": {},
   "outputs": [],
   "source": [
    "# Setup Tavily client (assume TAVILY_API_KEY present)\n",
    "TAVILY_API_KEY = os.getenv(\"TAVILY_API_KEY\")\n",
    "if not TAVILY_API_KEY:\n",
    "    raise RuntimeError(\"TAVILY_API_KEY not set in environment. Set it in .env or env vars before running.\")\n",
    "\n",
    "# instantiate tool\n",
    "tavily_tool = TavilySearch()"
   ]
  },
  {
   "cell_type": "code",
   "execution_count": 161,
   "id": "6b0086ef",
   "metadata": {},
   "outputs": [],
   "source": [
    "class Constraints(BaseModel):\n",
    "    origin: Optional[str] = None\n",
    "    city: Optional[str] = None\n",
    "    date: Optional[str] = None\n",
    "    return_date: Optional[str] = None\n",
    "    days: Optional[int] = None\n",
    "    budget_per_person: Optional[float] = None\n",
    "    interests: Optional[str] = None\n",
    "    transport_constraints: Optional[Dict[str, Any]] = None\n",
    "    hotel_constraints: Optional[Dict[str, Any]] = None\n",
    "\n",
    "class TransportOption(BaseModel):\n",
    "    provider: str\n",
    "    mode: str\n",
    "    depart: str\n",
    "    arrive: str\n",
    "    duration_min: int\n",
    "    price_per_person: float\n",
    "    notes: Optional[str] = None\n",
    "\n",
    "class HotelOption(BaseModel):\n",
    "    name: str\n",
    "    rating: Optional[float]\n",
    "    price_per_night: float\n",
    "    distance_from_center_km: Optional[float]\n",
    "    amenities: List[str] = Field(default_factory=list)\n",
    "    notes: Optional[str] = None\n",
    "\n",
    "class ItineraryItem(BaseModel):\n",
    "    day: int\n",
    "    morning: str\n",
    "    afternoon: str\n",
    "    evening: str\n",
    "    notes: Optional[str] = None\n",
    "\n",
    "class Intention(BaseModel):\n",
    "    type: Literal[\"travel_plan\",\"hotel_only\",\"transport_only\",\"unrelated\"]\n",
    "\n",
    "class PlannerState(TypedDict):\n",
    "    goal: str\n",
    "    intent: Optional[str]\n",
    "    constraints: Optional[Constraints] = None\n",
    "    # subtasks: List[Subtask] = Field(default_factory=list)\n",
    "    # policy: Dict[str, Any] = Field(default_factory=lambda: {\"max_retries\": 2, \"worker_timeout\": 12.0})\n",
    "    final_plan: Optional[Dict[str, Any]]"
   ]
  },
  {
   "cell_type": "code",
   "execution_count": 162,
   "id": "070c838c",
   "metadata": {},
   "outputs": [
    {
     "name": "stderr",
     "output_type": "stream",
     "text": [
      "/home/argha-ds/datascience/langgraph-agents/.venv/lib/python3.12/site-packages/langchain_openai/chat_models/base.py:1928: UserWarning: Cannot use method='json_schema' with model gpt-4 since it doesn't support OpenAI's Structured Output API. You can see supported models here: https://platform.openai.com/docs/guides/structured-outputs#supported-models. To fix this warning, set `method='function_calling'. Overriding to method='function_calling'.\n",
      "  warnings.warn(\n"
     ]
    }
   ],
   "source": [
    "# Supervisor LLM with intentation output\n",
    "supervisor_llm = llm.with_structured_output(Intention)"
   ]
  },
  {
   "cell_type": "code",
   "execution_count": 163,
   "id": "1b8100f2",
   "metadata": {},
   "outputs": [],
   "source": [
    "# Supervisor prompt to classify user intent\n",
    "supervisor_prompt = PromptTemplate(\n",
    "    input_variables=[\"goal\"],\n",
    "    template=(\n",
    "        \"You are an expert supervisor of a Travel Planner\"\n",
    "        \"Classify the user's travel planning intent based on the goal below.\\n\"\n",
    "        \"Possible intents are:\\n\"\n",
    "        \"1. travel_plan - planning a full trip\\n\"\n",
    "        \"2. hotel_only - only looking for hotel options\\n\"\n",
    "        \"3. transport_only - only looking for transport options\\n\"\n",
    "        \"4. unrelated - not related to travel planning or transport booking or hotel booking\\n\\n\"\n",
    "        \"Goal: {goal}\\n\"\n",
    "        \"Respond with the intent type only.\"\n",
    "    )\n",
    ")\n",
    "\n",
    "# Supervisor chain\n",
    "supervisor_chain = supervisor_prompt | supervisor_llm\n",
    "\n",
    "# Planner promt and chain\n",
    "constraints_parser = PydanticOutputParser(pydantic_object=Constraints)\n",
    "format_instructions = constraints_parser.get_format_instructions()\n",
    "\n",
    "planner_prompt_template = f\"\"\"\n",
    "You are an assistant that extracts travel constraints from a user query.\n",
    "Return ONLY valid JSON that matches the Constraints model below.\n",
    "\n",
    "Constraints model:\n",
    "  \"origin\": string or null,\n",
    "  \"city\": string or null,\n",
    "  \"date\": string (YYYY-MM-DD) or null,\n",
    "  \"return_date\": string (YYYY-MM-DD) or null,\n",
    "  \"days\": integer or null,\n",
    "  \"budget_per_person\": float or null,\n",
    "  \"interests\": string or null,\n",
    "  \"transport_constraints\": object or null,\n",
    "  \"hotel_constraints\": object or null\n",
    "\n",
    "\n",
    "User query:\n",
    "{{text}}\n",
    "\n",
    "Respond ONLY with valid JSON matching the model above. Do not include any explanation, markdown, or extra text.\n",
    "\"\"\"\n",
    "\n",
    "planner_prompt = PromptTemplate(\n",
    "    input_variables=[\"text\"],\n",
    "    template=planner_prompt_template\n",
    ")\n",
    "planner_chain = planner_prompt | llm"
   ]
  },
  {
   "cell_type": "code",
   "execution_count": 164,
   "id": "33d36899",
   "metadata": {},
   "outputs": [],
   "source": [
    "# Define supervisor node function\n",
    "def supervisor_node(state: PlannerState) -> PlannerState:\n",
    "    goal = state.get(\"goal\")\n",
    "    if not goal:\n",
    "        raise ValueError(\"Goal is required in the state.\")\n",
    "\n",
    "    result = supervisor_chain.invoke({\"goal\": goal})\n",
    "    print(f\"Supervisor raw output: {result.type}\")\n",
    "    try:\n",
    "        \n",
    "        return {\n",
    "            \"goal\": goal,\n",
    "            \"intent\": result.type,\n",
    "            \"final_plan\": None\n",
    "        }\n",
    "    except ValidationError as e:\n",
    "        print(f\"Validation error parsing intention: {e}\")\n",
    "        return {\n",
    "            \"goal\": goal,\n",
    "            \"intent\": \"unrelated\",\n",
    "            \"final_plan\": None\n",
    "        }"
   ]
  },
  {
   "cell_type": "code",
   "execution_count": 165,
   "id": "1a6f6e4b",
   "metadata": {},
   "outputs": [],
   "source": [
    "# Define supervisor gate\n",
    "def supervisor_gate(state: PlannerState) -> Literal[\"plan\", \"unrelated\"]:\n",
    "    if state.get(\"intent\") in [\"travel_plan\", \"hotel_only\", \"transport_only\"]:\n",
    "        return \"plan\"\n",
    "    return \"unrelated\""
   ]
  },
  {
   "cell_type": "code",
   "execution_count": 166,
   "id": "3ade143c",
   "metadata": {},
   "outputs": [],
   "source": [
    "def planner_node(state: PlannerState) -> PlannerState:\n",
    "    goal = state.get(\"goal\")\n",
    "    if not goal:\n",
    "        raise ValueError(\"Goal is required in the state.\")\n",
    "\n",
    "    try:\n",
    "        constraints = planner_chain.invoke({\"text\": goal})\n",
    "        print(constraints)\n",
    "    except Exception as e:\n",
    "        print(\"Extractor parse error:\", e)\n",
    "        constraints = Constraints()\n",
    "    return {\n",
    "        \"goal\": state[\"goal\"],\n",
    "        \"intent\": state[\"intent\"],\n",
    "        \"constraints\": constraints,\n",
    "        \"final_plan\": {\"message\": \"Planning logic not yet implemented.\"}\n",
    "    }"
   ]
  },
  {
   "cell_type": "code",
   "execution_count": 167,
   "id": "789ba899",
   "metadata": {},
   "outputs": [],
   "source": [
    "# Define end unrelated node\n",
    "def end_unrelated_node(state: PlannerState) -> PlannerState:\n",
    "    return {\n",
    "        \"goal\": state[\"goal\"],\n",
    "        \"intent\": state[\"intent\"],\n",
    "        \"final_plan\": {\"message\": \"The request was unrelated to travel planning.\"}\n",
    "    }"
   ]
  },
  {
   "cell_type": "code",
   "execution_count": 168,
   "id": "50218161",
   "metadata": {},
   "outputs": [],
   "source": [
    "# Build and complile the state graph\n",
    "builder = StateGraph(PlannerState)\n",
    "\n",
    "# Add nodes\n",
    "builder.add_node(\"supervisor\", supervisor_node)\n",
    "builder.add_node(\"planner\", planner_node)\n",
    "builder.add_node(\"end_unrelated\", end_unrelated_node)\n",
    "\n",
    "# Add edges\n",
    "builder.add_edge(START, \"supervisor\")\n",
    "builder.add_conditional_edges(\"supervisor\", supervisor_gate, {\n",
    "    \"plan\": \"planner\",\n",
    "    \"unrelated\": \"end_unrelated\"\n",
    "})\n",
    "builder.add_edge(\"planner\", END)\n",
    "builder.add_edge(\"end_unrelated\", END)\n",
    "\n",
    "# Compile the graph\n",
    "graph = builder.compile()"
   ]
  },
  {
   "cell_type": "code",
   "execution_count": 28,
   "id": "60bd237a",
   "metadata": {},
   "outputs": [
    {
     "data": {
      "image/png": "[encoded data removed]",
      "text/plain": [
       "<IPython.core.display.Image object>"
      ]
     },
     "metadata": {},
     "output_type": "display_data"
    }
   ],
   "source": [
    "# Display mermaid diagram\n",
    "display(Image(graph.get_graph().draw_mermaid_png()))"
   ]
  },
  {
   "cell_type": "code",
   "execution_count": 169,
   "id": "cb8f53b0",
   "metadata": {},
   "outputs": [
    {
     "name": "stdout",
     "output_type": "stream",
     "text": [
      "Supervisor raw output: travel_plan\n",
      "content='{\\n  \"origin\": \"Asansol\",\\n  \"city\": \"Varanasi\",\\n  \"date\": null,\\n  \"return_date\": null,\\n  \"days\": 2,\\n  \"budget_per_person\": null,\\n  \"interests\": null,\\n  \"transport_constraints\": null,\\n  \"hotel_constraints\": null\\n}' additional_kwargs={'refusal': None} response_metadata={'token_usage': {'completion_tokens': 69, 'prompt_tokens': 166, 'total_tokens': 235, 'completion_tokens_details': {'accepted_prediction_tokens': 0, 'audio_tokens': 0, 'reasoning_tokens': 0, 'rejected_prediction_tokens': 0}, 'prompt_tokens_details': {'audio_tokens': 0, 'cached_tokens': 0}}, 'model_name': 'gpt-4-0613', 'system_fingerprint': None, 'id': 'chatcmpl-CFEoX3u8OpHj15c7fFlqR6hqaXrXF', 'service_tier': 'default', 'finish_reason': 'stop', 'logprobs': None} id='run--f579b245-d6ab-4a00-adab-849aedc48aab-0' usage_metadata={'input_tokens': 166, 'output_tokens': 69, 'total_tokens': 235, 'input_token_details': {'audio': 0, 'cache_read': 0}, 'output_token_details': {'audio': 0, 'reasoning': 0}}\n",
      "{'goal': 'Plan a 2-day trip to Varanasi for two adults from Asansol', 'intent': 'travel_plan', 'constraints': AIMessage(content='{\\n  \"origin\": \"Asansol\",\\n  \"city\": \"Varanasi\",\\n  \"date\": null,\\n  \"return_date\": null,\\n  \"days\": 2,\\n  \"budget_per_person\": null,\\n  \"interests\": null,\\n  \"transport_constraints\": null,\\n  \"hotel_constraints\": null\\n}', additional_kwargs={'refusal': None}, response_metadata={'token_usage': {'completion_tokens': 69, 'prompt_tokens': 166, 'total_tokens': 235, 'completion_tokens_details': {'accepted_prediction_tokens': 0, 'audio_tokens': 0, 'reasoning_tokens': 0, 'rejected_prediction_tokens': 0}, 'prompt_tokens_details': {'audio_tokens': 0, 'cached_tokens': 0}}, 'model_name': 'gpt-4-0613', 'system_fingerprint': None, 'id': 'chatcmpl-CFEoX3u8OpHj15c7fFlqR6hqaXrXF', 'service_tier': 'default', 'finish_reason': 'stop', 'logprobs': None}, id='run--f579b245-d6ab-4a00-adab-849aedc48aab-0', usage_metadata={'input_tokens': 166, 'output_tokens': 69, 'total_tokens': 235, 'input_token_details': {'audio': 0, 'cache_read': 0}, 'output_token_details': {'audio': 0, 'reasoning': 0}}), 'final_plan': {'message': 'Planning logic not yet implemented.'}}\n"
     ]
    }
   ],
   "source": [
    "# Test the graph with a travel planning goal\n",
    "input_text = \"Plan a 2-day trip to Varanasi for two adults from Asansol\"\n",
    "initial_state = {\n",
    "    \"goal\": input_text,\n",
    "    \"intent\": None,\n",
    "    \"final_plan\": None\n",
    "}\n",
    "result = graph.invoke(initial_state)\n",
    "print(result)"
   ]
  },
  {
   "cell_type": "code",
   "execution_count": 170,
   "id": "335fcfee",
   "metadata": {},
   "outputs": [
    {
     "name": "stdout",
     "output_type": "stream",
     "text": [
      "Supervisor raw output: travel_plan\n",
      "content='{\\n  \"origin\": null,\\n  \"city\": \"Mumbai\",\\n  \"date\": \"2025-10-02\",\\n  \"return_date\": null,\\n  \"days\": null,\\n  \"budget_per_person\": null,\\n  \"interests\": null,\\n  \"transport_constraints\": null,\\n  \"hotel_constraints\": null\\n}' additional_kwargs={'refusal': None} response_metadata={'token_usage': {'completion_tokens': 70, 'prompt_tokens': 170, 'total_tokens': 240, 'completion_tokens_details': {'accepted_prediction_tokens': 0, 'audio_tokens': 0, 'reasoning_tokens': 0, 'rejected_prediction_tokens': 0}, 'prompt_tokens_details': {'audio_tokens': 0, 'cached_tokens': 0}}, 'model_name': 'gpt-4-0613', 'system_fingerprint': None, 'id': 'chatcmpl-CFEp02kPIU7lVHNhkT1M42h1RIXi2', 'service_tier': 'default', 'finish_reason': 'stop', 'logprobs': None} id='run--cb1f3408-ab2c-485b-a1e2-e1af57392cc2-0' usage_metadata={'input_tokens': 170, 'output_tokens': 70, 'total_tokens': 240, 'input_token_details': {'audio': 0, 'cache_read': 0}, 'output_token_details': {'audio': 0, 'reasoning': 0}}\n",
      "{'goal': 'I want to go to Mumbai on 2nd October, 2025. What are the convenient ways?', 'intent': 'travel_plan', 'constraints': AIMessage(content='{\\n  \"origin\": null,\\n  \"city\": \"Mumbai\",\\n  \"date\": \"2025-10-02\",\\n  \"return_date\": null,\\n  \"days\": null,\\n  \"budget_per_person\": null,\\n  \"interests\": null,\\n  \"transport_constraints\": null,\\n  \"hotel_constraints\": null\\n}', additional_kwargs={'refusal': None}, response_metadata={'token_usage': {'completion_tokens': 70, 'prompt_tokens': 170, 'total_tokens': 240, 'completion_tokens_details': {'accepted_prediction_tokens': 0, 'audio_tokens': 0, 'reasoning_tokens': 0, 'rejected_prediction_tokens': 0}, 'prompt_tokens_details': {'audio_tokens': 0, 'cached_tokens': 0}}, 'model_name': 'gpt-4-0613', 'system_fingerprint': None, 'id': 'chatcmpl-CFEp02kPIU7lVHNhkT1M42h1RIXi2', 'service_tier': 'default', 'finish_reason': 'stop', 'logprobs': None}, id='run--cb1f3408-ab2c-485b-a1e2-e1af57392cc2-0', usage_metadata={'input_tokens': 170, 'output_tokens': 70, 'total_tokens': 240, 'input_token_details': {'audio': 0, 'cache_read': 0}, 'output_token_details': {'audio': 0, 'reasoning': 0}}), 'final_plan': {'message': 'Planning logic not yet implemented.'}}\n"
     ]
    }
   ],
   "source": [
    "# Test the graph for transport only\n",
    "input_text= \"I want to go to Mumbai on 2nd October, 2025. What are the convenient ways?\"\n",
    "result = graph.invoke({\"goal\": input_text})\n",
    "print(result)"
   ]
  },
  {
   "cell_type": "code",
   "execution_count": 171,
   "id": "6d93f33f",
   "metadata": {},
   "outputs": [
    {
     "name": "stdout",
     "output_type": "stream",
     "text": [
      "Supervisor raw output: hotel_only\n",
      "content='{\\n  \"origin\": null,\\n  \"city\": \"Mumbai\",\\n  \"date\": \"2025-10-02\",\\n  \"return_date\": null,\\n  \"days\": null,\\n  \"budget_per_person\": null,\\n  \"interests\": null,\\n  \"transport_constraints\": null,\\n  \"hotel_constraints\": null\\n}' additional_kwargs={'refusal': None} response_metadata={'token_usage': {'completion_tokens': 70, 'prompt_tokens': 169, 'total_tokens': 239, 'completion_tokens_details': {'accepted_prediction_tokens': 0, 'audio_tokens': 0, 'reasoning_tokens': 0, 'rejected_prediction_tokens': 0}, 'prompt_tokens_details': {'audio_tokens': 0, 'cached_tokens': 0}}, 'model_name': 'gpt-4-0613', 'system_fingerprint': None, 'id': 'chatcmpl-CFEpS904xodHbX6TDKnjauRHm1QzC', 'service_tier': 'default', 'finish_reason': 'stop', 'logprobs': None} id='run--b5a9a729-0991-41ca-9e7a-914f66c05c5d-0' usage_metadata={'input_tokens': 169, 'output_tokens': 70, 'total_tokens': 239, 'input_token_details': {'audio': 0, 'cache_read': 0}, 'output_token_details': {'audio': 0, 'reasoning': 0}}\n",
      "{'goal': 'I want to go to Mumbai on 2nd October, 2025. Where should I stay?', 'intent': 'hotel_only', 'constraints': AIMessage(content='{\\n  \"origin\": null,\\n  \"city\": \"Mumbai\",\\n  \"date\": \"2025-10-02\",\\n  \"return_date\": null,\\n  \"days\": null,\\n  \"budget_per_person\": null,\\n  \"interests\": null,\\n  \"transport_constraints\": null,\\n  \"hotel_constraints\": null\\n}', additional_kwargs={'refusal': None}, response_metadata={'token_usage': {'completion_tokens': 70, 'prompt_tokens': 169, 'total_tokens': 239, 'completion_tokens_details': {'accepted_prediction_tokens': 0, 'audio_tokens': 0, 'reasoning_tokens': 0, 'rejected_prediction_tokens': 0}, 'prompt_tokens_details': {'audio_tokens': 0, 'cached_tokens': 0}}, 'model_name': 'gpt-4-0613', 'system_fingerprint': None, 'id': 'chatcmpl-CFEpS904xodHbX6TDKnjauRHm1QzC', 'service_tier': 'default', 'finish_reason': 'stop', 'logprobs': None}, id='run--b5a9a729-0991-41ca-9e7a-914f66c05c5d-0', usage_metadata={'input_tokens': 169, 'output_tokens': 70, 'total_tokens': 239, 'input_token_details': {'audio': 0, 'cache_read': 0}, 'output_token_details': {'audio': 0, 'reasoning': 0}}), 'final_plan': {'message': 'Planning logic not yet implemented.'}}\n"
     ]
    }
   ],
   "source": [
    "# Test the graph for hotel only\n",
    "input_text= \"I want to go to Mumbai on 2nd October, 2025. Where should I stay?\"\n",
    "result = graph.invoke({\"goal\": input_text})\n",
    "print(result)"
   ]
  },
  {
   "cell_type": "code",
   "execution_count": 172,
   "id": "5c4f3b3f",
   "metadata": {},
   "outputs": [
    {
     "name": "stdout",
     "output_type": "stream",
     "text": [
      "Supervisor raw output: unrelated\n",
      "{'goal': 'What is the capital of Maharashtra?', 'intent': 'unrelated', 'final_plan': {'message': 'The request was unrelated to travel planning.'}}\n"
     ]
    }
   ],
   "source": [
    "# Test the graph for unrelated\n",
    "input_text= \"What is the capital of Maharashtra?\"\n",
    "result = graph.invoke({\"goal\": input_text})\n",
    "print(result)"
   ]
  },
  {
   "cell_type": "code",
   "execution_count": null,
   "id": "3ef05362",
   "metadata": {},
   "outputs": [],
   "source": []
  }
 ],
 "metadata": {
  "kernelspec": {
   "display_name": "langgraph-agents",
   "language": "python",
   "name": "python3"
  },
  "language_info": {
   "codemirror_mode": {
    "name": "ipython",
    "version": 3
   },
   "file_extension": ".py",
   "mimetype": "text/x-python",
   "name": "python",
   "nbconvert_exporter": "python",
   "pygments_lexer": "ipython3",
   "version": "3.12.9"
  }
 },
 "nbformat": 4,
 "nbformat_minor": 5
}
